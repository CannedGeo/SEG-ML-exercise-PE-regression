{
 "cells": [
  {
   "cell_type": "code",
   "execution_count": 1,
   "metadata": {
    "collapsed": false
   },
   "outputs": [
    {
     "data": {
      "text/html": [
       "<div>\n",
       "<table border=\"1\" class=\"dataframe\">\n",
       "  <thead>\n",
       "    <tr style=\"text-align: right;\">\n",
       "      <th></th>\n",
       "      <th>Facies</th>\n",
       "      <th>Formation</th>\n",
       "      <th>Well Name</th>\n",
       "      <th>Depth</th>\n",
       "      <th>GR</th>\n",
       "      <th>ILD_log10</th>\n",
       "      <th>DeltaPHI</th>\n",
       "      <th>PHIND</th>\n",
       "      <th>PE</th>\n",
       "      <th>NM_M</th>\n",
       "      <th>RELPOS</th>\n",
       "    </tr>\n",
       "  </thead>\n",
       "  <tbody>\n",
       "    <tr>\n",
       "      <th>0</th>\n",
       "      <td>3</td>\n",
       "      <td>A1 SH</td>\n",
       "      <td>SHRIMPLIN</td>\n",
       "      <td>2793.0</td>\n",
       "      <td>77.450</td>\n",
       "      <td>0.664</td>\n",
       "      <td>9.900</td>\n",
       "      <td>11.915</td>\n",
       "      <td>4.600</td>\n",
       "      <td>1</td>\n",
       "      <td>1.000</td>\n",
       "    </tr>\n",
       "    <tr>\n",
       "      <th>1</th>\n",
       "      <td>3</td>\n",
       "      <td>A1 SH</td>\n",
       "      <td>SHRIMPLIN</td>\n",
       "      <td>2793.5</td>\n",
       "      <td>78.260</td>\n",
       "      <td>0.661</td>\n",
       "      <td>14.200</td>\n",
       "      <td>12.565</td>\n",
       "      <td>4.100</td>\n",
       "      <td>1</td>\n",
       "      <td>0.979</td>\n",
       "    </tr>\n",
       "    <tr>\n",
       "      <th>2</th>\n",
       "      <td>3</td>\n",
       "      <td>A1 SH</td>\n",
       "      <td>SHRIMPLIN</td>\n",
       "      <td>2794.0</td>\n",
       "      <td>79.050</td>\n",
       "      <td>0.658</td>\n",
       "      <td>14.800</td>\n",
       "      <td>13.050</td>\n",
       "      <td>3.600</td>\n",
       "      <td>1</td>\n",
       "      <td>0.957</td>\n",
       "    </tr>\n",
       "    <tr>\n",
       "      <th>3</th>\n",
       "      <td>3</td>\n",
       "      <td>A1 SH</td>\n",
       "      <td>SHRIMPLIN</td>\n",
       "      <td>2794.5</td>\n",
       "      <td>86.100</td>\n",
       "      <td>0.655</td>\n",
       "      <td>13.900</td>\n",
       "      <td>13.115</td>\n",
       "      <td>3.500</td>\n",
       "      <td>1</td>\n",
       "      <td>0.936</td>\n",
       "    </tr>\n",
       "    <tr>\n",
       "      <th>4</th>\n",
       "      <td>3</td>\n",
       "      <td>A1 SH</td>\n",
       "      <td>SHRIMPLIN</td>\n",
       "      <td>2795.0</td>\n",
       "      <td>74.580</td>\n",
       "      <td>0.647</td>\n",
       "      <td>13.500</td>\n",
       "      <td>13.300</td>\n",
       "      <td>3.400</td>\n",
       "      <td>1</td>\n",
       "      <td>0.915</td>\n",
       "    </tr>\n",
       "    <tr>\n",
       "      <th>...</th>\n",
       "      <td>...</td>\n",
       "      <td>...</td>\n",
       "      <td>...</td>\n",
       "      <td>...</td>\n",
       "      <td>...</td>\n",
       "      <td>...</td>\n",
       "      <td>...</td>\n",
       "      <td>...</td>\n",
       "      <td>...</td>\n",
       "      <td>...</td>\n",
       "      <td>...</td>\n",
       "    </tr>\n",
       "    <tr>\n",
       "      <th>4144</th>\n",
       "      <td>5</td>\n",
       "      <td>C LM</td>\n",
       "      <td>CHURCHMAN BIBLE</td>\n",
       "      <td>3120.5</td>\n",
       "      <td>46.719</td>\n",
       "      <td>0.947</td>\n",
       "      <td>1.828</td>\n",
       "      <td>7.254</td>\n",
       "      <td>3.617</td>\n",
       "      <td>2</td>\n",
       "      <td>0.685</td>\n",
       "    </tr>\n",
       "    <tr>\n",
       "      <th>4145</th>\n",
       "      <td>5</td>\n",
       "      <td>C LM</td>\n",
       "      <td>CHURCHMAN BIBLE</td>\n",
       "      <td>3121.0</td>\n",
       "      <td>44.563</td>\n",
       "      <td>0.953</td>\n",
       "      <td>2.241</td>\n",
       "      <td>8.013</td>\n",
       "      <td>3.344</td>\n",
       "      <td>2</td>\n",
       "      <td>0.677</td>\n",
       "    </tr>\n",
       "    <tr>\n",
       "      <th>4146</th>\n",
       "      <td>5</td>\n",
       "      <td>C LM</td>\n",
       "      <td>CHURCHMAN BIBLE</td>\n",
       "      <td>3121.5</td>\n",
       "      <td>49.719</td>\n",
       "      <td>0.964</td>\n",
       "      <td>2.925</td>\n",
       "      <td>8.013</td>\n",
       "      <td>3.190</td>\n",
       "      <td>2</td>\n",
       "      <td>0.669</td>\n",
       "    </tr>\n",
       "    <tr>\n",
       "      <th>4147</th>\n",
       "      <td>5</td>\n",
       "      <td>C LM</td>\n",
       "      <td>CHURCHMAN BIBLE</td>\n",
       "      <td>3122.0</td>\n",
       "      <td>51.469</td>\n",
       "      <td>0.965</td>\n",
       "      <td>3.083</td>\n",
       "      <td>7.708</td>\n",
       "      <td>3.152</td>\n",
       "      <td>2</td>\n",
       "      <td>0.661</td>\n",
       "    </tr>\n",
       "    <tr>\n",
       "      <th>4148</th>\n",
       "      <td>5</td>\n",
       "      <td>C LM</td>\n",
       "      <td>CHURCHMAN BIBLE</td>\n",
       "      <td>3122.5</td>\n",
       "      <td>50.031</td>\n",
       "      <td>0.970</td>\n",
       "      <td>2.609</td>\n",
       "      <td>6.668</td>\n",
       "      <td>3.295</td>\n",
       "      <td>2</td>\n",
       "      <td>0.653</td>\n",
       "    </tr>\n",
       "  </tbody>\n",
       "</table>\n",
       "<p>4149 rows × 11 columns</p>\n",
       "</div>"
      ],
      "text/plain": [
       "      Facies Formation        Well Name   Depth      GR  ILD_log10  DeltaPHI  \\\n",
       "0          3     A1 SH        SHRIMPLIN  2793.0  77.450      0.664     9.900   \n",
       "1          3     A1 SH        SHRIMPLIN  2793.5  78.260      0.661    14.200   \n",
       "2          3     A1 SH        SHRIMPLIN  2794.0  79.050      0.658    14.800   \n",
       "3          3     A1 SH        SHRIMPLIN  2794.5  86.100      0.655    13.900   \n",
       "4          3     A1 SH        SHRIMPLIN  2795.0  74.580      0.647    13.500   \n",
       "...      ...       ...              ...     ...     ...        ...       ...   \n",
       "4144       5      C LM  CHURCHMAN BIBLE  3120.5  46.719      0.947     1.828   \n",
       "4145       5      C LM  CHURCHMAN BIBLE  3121.0  44.563      0.953     2.241   \n",
       "4146       5      C LM  CHURCHMAN BIBLE  3121.5  49.719      0.964     2.925   \n",
       "4147       5      C LM  CHURCHMAN BIBLE  3122.0  51.469      0.965     3.083   \n",
       "4148       5      C LM  CHURCHMAN BIBLE  3122.5  50.031      0.970     2.609   \n",
       "\n",
       "       PHIND     PE  NM_M  RELPOS  \n",
       "0     11.915  4.600     1   1.000  \n",
       "1     12.565  4.100     1   0.979  \n",
       "2     13.050  3.600     1   0.957  \n",
       "3     13.115  3.500     1   0.936  \n",
       "4     13.300  3.400     1   0.915  \n",
       "...      ...    ...   ...     ...  \n",
       "4144   7.254  3.617     2   0.685  \n",
       "4145   8.013  3.344     2   0.677  \n",
       "4146   8.013  3.190     2   0.669  \n",
       "4147   7.708  3.152     2   0.661  \n",
       "4148   6.668  3.295     2   0.653  \n",
       "\n",
       "[4149 rows x 11 columns]"
      ]
     },
     "execution_count": 1,
     "metadata": {},
     "output_type": "execute_result"
    }
   ],
   "source": [
    "#Adapted from Brendon Hall SEG, TLE October 2016. http://dx.doi.org/10.1190/tle35100906.1\n",
    "\n",
    "%matplotlib inline\n",
    "import pandas as pd\n",
    "import numpy as np\n",
    "import matplotlib as mpl\n",
    "import matplotlib.pyplot as plt\n",
    "import matplotlib.colors as colors\n",
    "from mpl_toolkits.axes_grid1 import make_axes_locatable\n",
    "\n",
    "from pandas import set_option\n",
    "set_option(\"display.max_rows\", 10)\n",
    "pd.options.mode.chained_assignment = None\n",
    "\n",
    "data = pd.read_csv('facies_vectors.csv')\n",
    "data"
   ]
  },
  {
   "cell_type": "code",
   "execution_count": 2,
   "metadata": {
    "collapsed": false
   },
   "outputs": [],
   "source": [
    "#Need to remove the wells with no PE to later train. I know there must be a better way to do this.\n",
    "ALEX_D_No_PE = data[data['Well Name'] == 'ALEXANDER D']\n",
    "data = data[data['Well Name'] != 'ALEXANDER D']"
   ]
  },
  {
   "cell_type": "code",
   "execution_count": 3,
   "metadata": {
    "collapsed": false
   },
   "outputs": [],
   "source": [
    "KIMZEY_No_PE = data[data['Well Name'] == 'KIMZEY A']\n",
    "data = data[data['Well Name'] != 'KIMZEY A']"
   ]
  },
  {
   "cell_type": "code",
   "execution_count": 4,
   "metadata": {
    "collapsed": true
   },
   "outputs": [],
   "source": [
    "#Removed the wells with no PE, but there are still some missing PE values in the Recruit F9. So this will clean that up.\n",
    "#Its only 12 samples or so, but will mess things up, so just removing.\n",
    "PE_mask = data['PE'].notnull().values\n",
    "data = data[PE_mask]"
   ]
  },
  {
   "cell_type": "code",
   "execution_count": 5,
   "metadata": {
    "collapsed": false,
    "scrolled": false
   },
   "outputs": [
    {
     "data": {
      "text/html": [
       "<div>\n",
       "<table border=\"1\" class=\"dataframe\">\n",
       "  <thead>\n",
       "    <tr style=\"text-align: right;\">\n",
       "      <th></th>\n",
       "      <th>Facies</th>\n",
       "      <th>Depth</th>\n",
       "      <th>GR</th>\n",
       "      <th>ILD_log10</th>\n",
       "      <th>DeltaPHI</th>\n",
       "      <th>PHIND</th>\n",
       "      <th>PE</th>\n",
       "      <th>NM_M</th>\n",
       "      <th>RELPOS</th>\n",
       "    </tr>\n",
       "  </thead>\n",
       "  <tbody>\n",
       "    <tr>\n",
       "      <th>count</th>\n",
       "      <td>3232.000000</td>\n",
       "      <td>3232.000000</td>\n",
       "      <td>3232.000000</td>\n",
       "      <td>3232.000000</td>\n",
       "      <td>3232.000000</td>\n",
       "      <td>3232.000000</td>\n",
       "      <td>3232.000000</td>\n",
       "      <td>3232.000000</td>\n",
       "      <td>3232.000000</td>\n",
       "    </tr>\n",
       "    <tr>\n",
       "      <th>mean</th>\n",
       "      <td>4.422030</td>\n",
       "      <td>2875.824567</td>\n",
       "      <td>66.135769</td>\n",
       "      <td>0.642719</td>\n",
       "      <td>3.559642</td>\n",
       "      <td>13.483213</td>\n",
       "      <td>3.725014</td>\n",
       "      <td>1.498453</td>\n",
       "      <td>0.520287</td>\n",
       "    </tr>\n",
       "    <tr>\n",
       "      <th>std</th>\n",
       "      <td>2.504243</td>\n",
       "      <td>131.006274</td>\n",
       "      <td>30.854826</td>\n",
       "      <td>0.241845</td>\n",
       "      <td>5.228948</td>\n",
       "      <td>7.698980</td>\n",
       "      <td>0.896152</td>\n",
       "      <td>0.500075</td>\n",
       "      <td>0.286792</td>\n",
       "    </tr>\n",
       "    <tr>\n",
       "      <th>min</th>\n",
       "      <td>1.000000</td>\n",
       "      <td>2573.500000</td>\n",
       "      <td>13.250000</td>\n",
       "      <td>-0.025949</td>\n",
       "      <td>-21.832000</td>\n",
       "      <td>0.550000</td>\n",
       "      <td>0.200000</td>\n",
       "      <td>1.000000</td>\n",
       "      <td>0.010000</td>\n",
       "    </tr>\n",
       "    <tr>\n",
       "      <th>25%</th>\n",
       "      <td>2.000000</td>\n",
       "      <td>2791.000000</td>\n",
       "      <td>46.918750</td>\n",
       "      <td>0.492750</td>\n",
       "      <td>1.163750</td>\n",
       "      <td>8.346750</td>\n",
       "      <td>3.100000</td>\n",
       "      <td>1.000000</td>\n",
       "      <td>0.273000</td>\n",
       "    </tr>\n",
       "    <tr>\n",
       "      <th>50%</th>\n",
       "      <td>4.000000</td>\n",
       "      <td>2893.500000</td>\n",
       "      <td>65.721500</td>\n",
       "      <td>0.624437</td>\n",
       "      <td>3.500000</td>\n",
       "      <td>12.150000</td>\n",
       "      <td>3.551500</td>\n",
       "      <td>1.000000</td>\n",
       "      <td>0.526000</td>\n",
       "    </tr>\n",
       "    <tr>\n",
       "      <th>75%</th>\n",
       "      <td>6.000000</td>\n",
       "      <td>2980.000000</td>\n",
       "      <td>79.626250</td>\n",
       "      <td>0.812735</td>\n",
       "      <td>6.432500</td>\n",
       "      <td>16.453750</td>\n",
       "      <td>4.300000</td>\n",
       "      <td>2.000000</td>\n",
       "      <td>0.767250</td>\n",
       "    </tr>\n",
       "    <tr>\n",
       "      <th>max</th>\n",
       "      <td>9.000000</td>\n",
       "      <td>3122.500000</td>\n",
       "      <td>361.150000</td>\n",
       "      <td>1.480000</td>\n",
       "      <td>18.600000</td>\n",
       "      <td>84.400000</td>\n",
       "      <td>8.094000</td>\n",
       "      <td>2.000000</td>\n",
       "      <td>1.000000</td>\n",
       "    </tr>\n",
       "  </tbody>\n",
       "</table>\n",
       "</div>"
      ],
      "text/plain": [
       "            Facies        Depth           GR    ILD_log10     DeltaPHI  \\\n",
       "count  3232.000000  3232.000000  3232.000000  3232.000000  3232.000000   \n",
       "mean      4.422030  2875.824567    66.135769     0.642719     3.559642   \n",
       "std       2.504243   131.006274    30.854826     0.241845     5.228948   \n",
       "min       1.000000  2573.500000    13.250000    -0.025949   -21.832000   \n",
       "25%       2.000000  2791.000000    46.918750     0.492750     1.163750   \n",
       "50%       4.000000  2893.500000    65.721500     0.624437     3.500000   \n",
       "75%       6.000000  2980.000000    79.626250     0.812735     6.432500   \n",
       "max       9.000000  3122.500000   361.150000     1.480000    18.600000   \n",
       "\n",
       "             PHIND           PE         NM_M       RELPOS  \n",
       "count  3232.000000  3232.000000  3232.000000  3232.000000  \n",
       "mean     13.483213     3.725014     1.498453     0.520287  \n",
       "std       7.698980     0.896152     0.500075     0.286792  \n",
       "min       0.550000     0.200000     1.000000     0.010000  \n",
       "25%       8.346750     3.100000     1.000000     0.273000  \n",
       "50%      12.150000     3.551500     1.000000     0.526000  \n",
       "75%      16.453750     4.300000     2.000000     0.767250  \n",
       "max      84.400000     8.094000     2.000000     1.000000  "
      ]
     },
     "execution_count": 5,
     "metadata": {},
     "output_type": "execute_result"
    }
   ],
   "source": [
    "#Since I do not have any formal training with this, I like to double check things are working as expected.\n",
    "data.describe()"
   ]
  },
  {
   "cell_type": "code",
   "execution_count": 6,
   "metadata": {
    "collapsed": true
   },
   "outputs": [],
   "source": [
    "#I think it would be interesting to try a k-fold cross validation here instead of one well. \n",
    "test_well = data[data['Well Name'] == 'SHANKLE']\n",
    "data = data[data['Well Name'] != 'SHANKLE']"
   ]
  },
  {
   "cell_type": "code",
   "execution_count": 7,
   "metadata": {
    "collapsed": false
   },
   "outputs": [
    {
     "data": {
      "text/plain": [
       "[SHRIMPLIN, LUKE G U, CROSS H CATTLE, NOLAN, Recruit F9, NEWBY, CHURCHMAN BIBLE]\n",
       "Categories (7, object): [SHRIMPLIN, LUKE G U, CROSS H CATTLE, NOLAN, Recruit F9, NEWBY, CHURCHMAN BIBLE]"
      ]
     },
     "execution_count": 7,
     "metadata": {},
     "output_type": "execute_result"
    }
   ],
   "source": [
    "data['Well Name'] = data['Well Name'].astype('category')\n",
    "data['Formation'] = data['Formation'].astype('category')\n",
    "data['Well Name'].unique()"
   ]
  },
  {
   "cell_type": "code",
   "execution_count": 8,
   "metadata": {
    "collapsed": true
   },
   "outputs": [],
   "source": [
    "#creating features to train PE\n",
    "features = ['Facies', 'GR', 'ILD_log10', 'DeltaPHI', 'PHIND','NM_M','RELPOS']\n",
    "vectors = data[features]\n",
    "PE_train = data['PE']"
   ]
  },
  {
   "cell_type": "code",
   "execution_count": 9,
   "metadata": {
    "collapsed": false
   },
   "outputs": [
    {
     "data": {
      "text/html": [
       "<div>\n",
       "<table border=\"1\" class=\"dataframe\">\n",
       "  <thead>\n",
       "    <tr style=\"text-align: right;\">\n",
       "      <th></th>\n",
       "      <th>Facies</th>\n",
       "      <th>GR</th>\n",
       "      <th>ILD_log10</th>\n",
       "      <th>DeltaPHI</th>\n",
       "      <th>PHIND</th>\n",
       "      <th>NM_M</th>\n",
       "      <th>RELPOS</th>\n",
       "    </tr>\n",
       "  </thead>\n",
       "  <tbody>\n",
       "    <tr>\n",
       "      <th>count</th>\n",
       "      <td>2783.000000</td>\n",
       "      <td>2783.000000</td>\n",
       "      <td>2783.000000</td>\n",
       "      <td>2783.000000</td>\n",
       "      <td>2783.000000</td>\n",
       "      <td>2783.000000</td>\n",
       "      <td>2783.000000</td>\n",
       "    </tr>\n",
       "    <tr>\n",
       "      <th>mean</th>\n",
       "      <td>4.558390</td>\n",
       "      <td>66.249445</td>\n",
       "      <td>0.644637</td>\n",
       "      <td>3.754963</td>\n",
       "      <td>13.118929</td>\n",
       "      <td>1.523895</td>\n",
       "      <td>0.523057</td>\n",
       "    </tr>\n",
       "    <tr>\n",
       "      <th>std</th>\n",
       "      <td>2.515249</td>\n",
       "      <td>31.610849</td>\n",
       "      <td>0.241922</td>\n",
       "      <td>5.045916</td>\n",
       "      <td>7.389665</td>\n",
       "      <td>0.499518</td>\n",
       "      <td>0.287499</td>\n",
       "    </tr>\n",
       "    <tr>\n",
       "      <th>min</th>\n",
       "      <td>1.000000</td>\n",
       "      <td>13.250000</td>\n",
       "      <td>-0.025949</td>\n",
       "      <td>-21.832000</td>\n",
       "      <td>0.550000</td>\n",
       "      <td>1.000000</td>\n",
       "      <td>0.010000</td>\n",
       "    </tr>\n",
       "    <tr>\n",
       "      <th>25%</th>\n",
       "      <td>2.000000</td>\n",
       "      <td>46.081500</td>\n",
       "      <td>0.497000</td>\n",
       "      <td>1.300000</td>\n",
       "      <td>8.165000</td>\n",
       "      <td>1.000000</td>\n",
       "      <td>0.276500</td>\n",
       "    </tr>\n",
       "    <tr>\n",
       "      <th>50%</th>\n",
       "      <td>4.000000</td>\n",
       "      <td>65.541000</td>\n",
       "      <td>0.627000</td>\n",
       "      <td>3.581000</td>\n",
       "      <td>11.900000</td>\n",
       "      <td>2.000000</td>\n",
       "      <td>0.529000</td>\n",
       "    </tr>\n",
       "    <tr>\n",
       "      <th>75%</th>\n",
       "      <td>7.000000</td>\n",
       "      <td>80.714000</td>\n",
       "      <td>0.812323</td>\n",
       "      <td>6.500000</td>\n",
       "      <td>16.144000</td>\n",
       "      <td>2.000000</td>\n",
       "      <td>0.771500</td>\n",
       "    </tr>\n",
       "    <tr>\n",
       "      <th>max</th>\n",
       "      <td>9.000000</td>\n",
       "      <td>361.150000</td>\n",
       "      <td>1.480000</td>\n",
       "      <td>18.500000</td>\n",
       "      <td>84.400000</td>\n",
       "      <td>2.000000</td>\n",
       "      <td>1.000000</td>\n",
       "    </tr>\n",
       "  </tbody>\n",
       "</table>\n",
       "</div>"
      ],
      "text/plain": [
       "            Facies           GR    ILD_log10     DeltaPHI        PHIND  \\\n",
       "count  2783.000000  2783.000000  2783.000000  2783.000000  2783.000000   \n",
       "mean      4.558390    66.249445     0.644637     3.754963    13.118929   \n",
       "std       2.515249    31.610849     0.241922     5.045916     7.389665   \n",
       "min       1.000000    13.250000    -0.025949   -21.832000     0.550000   \n",
       "25%       2.000000    46.081500     0.497000     1.300000     8.165000   \n",
       "50%       4.000000    65.541000     0.627000     3.581000    11.900000   \n",
       "75%       7.000000    80.714000     0.812323     6.500000    16.144000   \n",
       "max       9.000000   361.150000     1.480000    18.500000    84.400000   \n",
       "\n",
       "              NM_M       RELPOS  \n",
       "count  2783.000000  2783.000000  \n",
       "mean      1.523895     0.523057  \n",
       "std       0.499518     0.287499  \n",
       "min       1.000000     0.010000  \n",
       "25%       1.000000     0.276500  \n",
       "50%       2.000000     0.529000  \n",
       "75%       2.000000     0.771500  \n",
       "max       2.000000     1.000000  "
      ]
     },
     "execution_count": 9,
     "metadata": {},
     "output_type": "execute_result"
    }
   ],
   "source": [
    "vectors.describe()"
   ]
  },
  {
   "cell_type": "code",
   "execution_count": 10,
   "metadata": {
    "collapsed": false
   },
   "outputs": [
    {
     "data": {
      "text/plain": [
       "count    2783.000000\n",
       "mean        3.805693\n",
       "std         0.894118\n",
       "min         0.200000\n",
       "25%         3.200000\n",
       "50%         3.600000\n",
       "75%         4.400000\n",
       "max         8.094000\n",
       "Name: PE, dtype: float64"
      ]
     },
     "execution_count": 10,
     "metadata": {},
     "output_type": "execute_result"
    }
   ],
   "source": [
    "#Again, just checking here.\n",
    "PE_train.describe()"
   ]
  },
  {
   "cell_type": "code",
   "execution_count": 11,
   "metadata": {
    "collapsed": true
   },
   "outputs": [],
   "source": [
    "from sklearn import preprocessing\n",
    "\n",
    "scaler = preprocessing.StandardScaler().fit(vectors)\n",
    "scaled_features = scaler.transform(vectors)"
   ]
  },
  {
   "cell_type": "code",
   "execution_count": 12,
   "metadata": {
    "collapsed": false
   },
   "outputs": [],
   "source": [
    "from sklearn.cross_validation import train_test_split\n",
    "\n",
    "X_train, X_cv, y_train, y_cv = train_test_split(\n",
    "        scaled_features, PE_train, test_size=0.3, random_state=42)"
   ]
  },
  {
   "cell_type": "code",
   "execution_count": 13,
   "metadata": {
    "collapsed": false
   },
   "outputs": [],
   "source": [
    "#Ran a few models, the 'rbf' produced the best result. However, others are included to compare.\n",
    "from sklearn.svm import SVR\n",
    "clf_rbf = SVR(C=10, gamma=1)\n",
    "clf_linear = SVR(kernel='linear', C=10, gamma=1)\n",
    "clf_poly = SVR(kernel='poly', C=10)"
   ]
  },
  {
   "cell_type": "code",
   "execution_count": 14,
   "metadata": {
    "collapsed": false
   },
   "outputs": [
    {
     "data": {
      "text/plain": [
       "SVR(C=10, cache_size=200, coef0=0.0, degree=3, epsilon=0.1, gamma=1,\n",
       "  kernel='rbf', max_iter=-1, shrinking=True, tol=0.001, verbose=False)"
      ]
     },
     "execution_count": 14,
     "metadata": {},
     "output_type": "execute_result"
    }
   ],
   "source": [
    "clf_rbf.fit(X_train, y_train)"
   ]
  },
  {
   "cell_type": "code",
   "execution_count": 15,
   "metadata": {
    "collapsed": true
   },
   "outputs": [],
   "source": [
    "predicted_rbf_PE = clf_rbf.predict(X_cv)"
   ]
  },
  {
   "cell_type": "code",
   "execution_count": 16,
   "metadata": {
    "collapsed": false
   },
   "outputs": [
    {
     "data": {
      "text/plain": [
       "0.75607782808566315"
      ]
     },
     "execution_count": 16,
     "metadata": {},
     "output_type": "execute_result"
    }
   ],
   "source": [
    "#R^2 for the analysis\n",
    "clf_rbf.score(X_cv,y_cv)"
   ]
  },
  {
   "cell_type": "code",
   "execution_count": 17,
   "metadata": {
    "collapsed": false
   },
   "outputs": [
    {
     "data": {
      "text/plain": [
       "SVR(C=10, cache_size=200, coef0=0.0, degree=3, epsilon=0.1, gamma=1,\n",
       "  kernel='linear', max_iter=-1, shrinking=True, tol=0.001, verbose=False)"
      ]
     },
     "execution_count": 17,
     "metadata": {},
     "output_type": "execute_result"
    }
   ],
   "source": [
    "clf_linear.fit(X_train, y_train)"
   ]
  },
  {
   "cell_type": "code",
   "execution_count": 18,
   "metadata": {
    "collapsed": true
   },
   "outputs": [],
   "source": [
    "predicted_linear_PE = clf_linear.predict(X_cv)"
   ]
  },
  {
   "cell_type": "code",
   "execution_count": 19,
   "metadata": {
    "collapsed": false
   },
   "outputs": [
    {
     "data": {
      "text/plain": [
       "0.60568460401220414"
      ]
     },
     "execution_count": 19,
     "metadata": {},
     "output_type": "execute_result"
    }
   ],
   "source": [
    "clf_linear.score(X_cv,y_cv)"
   ]
  },
  {
   "cell_type": "code",
   "execution_count": 20,
   "metadata": {
    "collapsed": false
   },
   "outputs": [
    {
     "data": {
      "text/plain": [
       "SVR(C=10, cache_size=200, coef0=0.0, degree=3, epsilon=0.1, gamma='auto',\n",
       "  kernel='poly', max_iter=-1, shrinking=True, tol=0.001, verbose=False)"
      ]
     },
     "execution_count": 20,
     "metadata": {},
     "output_type": "execute_result"
    }
   ],
   "source": [
    "clf_poly.fit(X_train, y_train)"
   ]
  },
  {
   "cell_type": "code",
   "execution_count": 21,
   "metadata": {
    "collapsed": true
   },
   "outputs": [],
   "source": [
    "predicted_poly_PE = clf_poly.predict(X_cv)"
   ]
  },
  {
   "cell_type": "code",
   "execution_count": 22,
   "metadata": {
    "collapsed": false
   },
   "outputs": [
    {
     "data": {
      "text/plain": [
       "0.68681424915610223"
      ]
     },
     "execution_count": 22,
     "metadata": {},
     "output_type": "execute_result"
    }
   ],
   "source": [
    "clf_poly.score(X_cv,y_cv)"
   ]
  },
  {
   "cell_type": "code",
   "execution_count": 23,
   "metadata": {
    "collapsed": false
   },
   "outputs": [
    {
     "data": {
      "image/png": "[encoded data removed]",
      "text/plain": [
       "<matplotlib.figure.Figure at 0x1e74dc4e898>"
      ]
     },
     "metadata": {},
     "output_type": "display_data"
    }
   ],
   "source": [
    "#Just playing around with plotting. Somehow show r^2? \n",
    "plt.scatter(predicted_poly_PE, y_cv, color='red', label='linear_vectors')\n",
    "plt.scatter(predicted_linear_PE, y_cv, color='blue', label='poly_vectors')\n",
    "plt.scatter(predicted_rbf_PE, y_cv, color='darkorange', label='rbf_vectors')\n",
    "plt.hold('on')\n",
    "plt.xlabel('predicted_PE')\n",
    "plt.ylabel('PE')\n",
    "plt.title('Support Vector Regression')\n",
    "plt.legend()\n",
    "plt.show()"
   ]
  },
  {
   "cell_type": "code",
   "execution_count": 24,
   "metadata": {
    "collapsed": false
   },
   "outputs": [],
   "source": [
    "#Now we test the test well. Again, probably a better way to frame data, so this is sloppy.\n",
    "y_test_PE = test_well['PE']"
   ]
  },
  {
   "cell_type": "code",
   "execution_count": 25,
   "metadata": {
    "collapsed": false
   },
   "outputs": [],
   "source": [
    "test_vectors_1 = test_well.drop(['PE', 'Formation', 'Well Name', 'Depth'], axis=1)"
   ]
  },
  {
   "cell_type": "code",
   "execution_count": 26,
   "metadata": {
    "collapsed": true
   },
   "outputs": [],
   "source": [
    "test_vectors_2 = scaler.transform(test_vectors_1)"
   ]
  },
  {
   "cell_type": "code",
   "execution_count": 27,
   "metadata": {
    "collapsed": true
   },
   "outputs": [],
   "source": [
    "Blind_PE_predict = clf_rbf.predict(test_vectors_2)"
   ]
  },
  {
   "cell_type": "code",
   "execution_count": 28,
   "metadata": {
    "collapsed": true
   },
   "outputs": [],
   "source": [
    "test_well['Blind_PE'] = Blind_PE_predict"
   ]
  },
  {
   "cell_type": "code",
   "execution_count": 29,
   "metadata": {
    "collapsed": false
   },
   "outputs": [
    {
     "data": {
      "text/html": [
       "<div>\n",
       "<table border=\"1\" class=\"dataframe\">\n",
       "  <thead>\n",
       "    <tr style=\"text-align: right;\">\n",
       "      <th></th>\n",
       "      <th>Facies</th>\n",
       "      <th>Formation</th>\n",
       "      <th>Well Name</th>\n",
       "      <th>Depth</th>\n",
       "      <th>GR</th>\n",
       "      <th>ILD_log10</th>\n",
       "      <th>DeltaPHI</th>\n",
       "      <th>PHIND</th>\n",
       "      <th>PE</th>\n",
       "      <th>NM_M</th>\n",
       "      <th>RELPOS</th>\n",
       "      <th>Blind_PE</th>\n",
       "    </tr>\n",
       "  </thead>\n",
       "  <tbody>\n",
       "    <tr>\n",
       "      <th>937</th>\n",
       "      <td>2</td>\n",
       "      <td>A1 SH</td>\n",
       "      <td>SHANKLE</td>\n",
       "      <td>2774.5</td>\n",
       "      <td>98.36</td>\n",
       "      <td>0.642</td>\n",
       "      <td>-0.1</td>\n",
       "      <td>18.685</td>\n",
       "      <td>2.9</td>\n",
       "      <td>1</td>\n",
       "      <td>1.000</td>\n",
       "      <td>3.455556</td>\n",
       "    </tr>\n",
       "    <tr>\n",
       "      <th>938</th>\n",
       "      <td>2</td>\n",
       "      <td>A1 SH</td>\n",
       "      <td>SHANKLE</td>\n",
       "      <td>2775.0</td>\n",
       "      <td>97.57</td>\n",
       "      <td>0.631</td>\n",
       "      <td>7.9</td>\n",
       "      <td>16.745</td>\n",
       "      <td>3.2</td>\n",
       "      <td>1</td>\n",
       "      <td>0.984</td>\n",
       "      <td>3.335734</td>\n",
       "    </tr>\n",
       "    <tr>\n",
       "      <th>939</th>\n",
       "      <td>2</td>\n",
       "      <td>A1 SH</td>\n",
       "      <td>SHANKLE</td>\n",
       "      <td>2775.5</td>\n",
       "      <td>98.41</td>\n",
       "      <td>0.615</td>\n",
       "      <td>12.8</td>\n",
       "      <td>14.105</td>\n",
       "      <td>3.2</td>\n",
       "      <td>1</td>\n",
       "      <td>0.968</td>\n",
       "      <td>3.361371</td>\n",
       "    </tr>\n",
       "    <tr>\n",
       "      <th>940</th>\n",
       "      <td>2</td>\n",
       "      <td>A1 SH</td>\n",
       "      <td>SHANKLE</td>\n",
       "      <td>2776.0</td>\n",
       "      <td>85.92</td>\n",
       "      <td>0.597</td>\n",
       "      <td>13.0</td>\n",
       "      <td>13.385</td>\n",
       "      <td>3.4</td>\n",
       "      <td>1</td>\n",
       "      <td>0.952</td>\n",
       "      <td>3.421818</td>\n",
       "    </tr>\n",
       "    <tr>\n",
       "      <th>941</th>\n",
       "      <td>2</td>\n",
       "      <td>A1 SH</td>\n",
       "      <td>SHANKLE</td>\n",
       "      <td>2776.5</td>\n",
       "      <td>83.16</td>\n",
       "      <td>0.592</td>\n",
       "      <td>12.3</td>\n",
       "      <td>13.345</td>\n",
       "      <td>3.4</td>\n",
       "      <td>1</td>\n",
       "      <td>0.935</td>\n",
       "      <td>3.370234</td>\n",
       "    </tr>\n",
       "    <tr>\n",
       "      <th>...</th>\n",
       "      <td>...</td>\n",
       "      <td>...</td>\n",
       "      <td>...</td>\n",
       "      <td>...</td>\n",
       "      <td>...</td>\n",
       "      <td>...</td>\n",
       "      <td>...</td>\n",
       "      <td>...</td>\n",
       "      <td>...</td>\n",
       "      <td>...</td>\n",
       "      <td>...</td>\n",
       "      <td>...</td>\n",
       "    </tr>\n",
       "    <tr>\n",
       "      <th>1381</th>\n",
       "      <td>8</td>\n",
       "      <td>C LM</td>\n",
       "      <td>SHANKLE</td>\n",
       "      <td>3006.0</td>\n",
       "      <td>32.84</td>\n",
       "      <td>1.120</td>\n",
       "      <td>-2.2</td>\n",
       "      <td>3.455</td>\n",
       "      <td>5.1</td>\n",
       "      <td>2</td>\n",
       "      <td>0.060</td>\n",
       "      <td>4.451038</td>\n",
       "    </tr>\n",
       "    <tr>\n",
       "      <th>1382</th>\n",
       "      <td>8</td>\n",
       "      <td>C LM</td>\n",
       "      <td>SHANKLE</td>\n",
       "      <td>3006.5</td>\n",
       "      <td>25.16</td>\n",
       "      <td>1.112</td>\n",
       "      <td>-1.6</td>\n",
       "      <td>2.890</td>\n",
       "      <td>4.8</td>\n",
       "      <td>2</td>\n",
       "      <td>0.045</td>\n",
       "      <td>4.456850</td>\n",
       "    </tr>\n",
       "    <tr>\n",
       "      <th>1383</th>\n",
       "      <td>8</td>\n",
       "      <td>C LM</td>\n",
       "      <td>SHANKLE</td>\n",
       "      <td>3007.0</td>\n",
       "      <td>25.16</td>\n",
       "      <td>1.112</td>\n",
       "      <td>-1.6</td>\n",
       "      <td>2.890</td>\n",
       "      <td>4.8</td>\n",
       "      <td>2</td>\n",
       "      <td>0.030</td>\n",
       "      <td>4.438210</td>\n",
       "    </tr>\n",
       "    <tr>\n",
       "      <th>1384</th>\n",
       "      <td>4</td>\n",
       "      <td>C LM</td>\n",
       "      <td>SHANKLE</td>\n",
       "      <td>3007.5</td>\n",
       "      <td>26.22</td>\n",
       "      <td>1.092</td>\n",
       "      <td>-0.4</td>\n",
       "      <td>3.400</td>\n",
       "      <td>4.5</td>\n",
       "      <td>2</td>\n",
       "      <td>0.030</td>\n",
       "      <td>3.819175</td>\n",
       "    </tr>\n",
       "    <tr>\n",
       "      <th>1385</th>\n",
       "      <td>4</td>\n",
       "      <td>C LM</td>\n",
       "      <td>SHANKLE</td>\n",
       "      <td>3008.0</td>\n",
       "      <td>65.36</td>\n",
       "      <td>1.026</td>\n",
       "      <td>1.6</td>\n",
       "      <td>4.715</td>\n",
       "      <td>4.5</td>\n",
       "      <td>2</td>\n",
       "      <td>0.015</td>\n",
       "      <td>4.393101</td>\n",
       "    </tr>\n",
       "  </tbody>\n",
       "</table>\n",
       "<p>449 rows × 12 columns</p>\n",
       "</div>"
      ],
      "text/plain": [
       "      Facies Formation Well Name   Depth     GR  ILD_log10  DeltaPHI   PHIND  \\\n",
       "937        2     A1 SH   SHANKLE  2774.5  98.36      0.642      -0.1  18.685   \n",
       "938        2     A1 SH   SHANKLE  2775.0  97.57      0.631       7.9  16.745   \n",
       "939        2     A1 SH   SHANKLE  2775.5  98.41      0.615      12.8  14.105   \n",
       "940        2     A1 SH   SHANKLE  2776.0  85.92      0.597      13.0  13.385   \n",
       "941        2     A1 SH   SHANKLE  2776.5  83.16      0.592      12.3  13.345   \n",
       "...      ...       ...       ...     ...    ...        ...       ...     ...   \n",
       "1381       8      C LM   SHANKLE  3006.0  32.84      1.120      -2.2   3.455   \n",
       "1382       8      C LM   SHANKLE  3006.5  25.16      1.112      -1.6   2.890   \n",
       "1383       8      C LM   SHANKLE  3007.0  25.16      1.112      -1.6   2.890   \n",
       "1384       4      C LM   SHANKLE  3007.5  26.22      1.092      -0.4   3.400   \n",
       "1385       4      C LM   SHANKLE  3008.0  65.36      1.026       1.6   4.715   \n",
       "\n",
       "       PE  NM_M  RELPOS  Blind_PE  \n",
       "937   2.9     1   1.000  3.455556  \n",
       "938   3.2     1   0.984  3.335734  \n",
       "939   3.2     1   0.968  3.361371  \n",
       "940   3.4     1   0.952  3.421818  \n",
       "941   3.4     1   0.935  3.370234  \n",
       "...   ...   ...     ...       ...  \n",
       "1381  5.1     2   0.060  4.451038  \n",
       "1382  4.8     2   0.045  4.456850  \n",
       "1383  4.8     2   0.030  4.438210  \n",
       "1384  4.5     2   0.030  3.819175  \n",
       "1385  4.5     2   0.015  4.393101  \n",
       "\n",
       "[449 rows x 12 columns]"
      ]
     },
     "execution_count": 29,
     "metadata": {},
     "output_type": "execute_result"
    }
   ],
   "source": [
    "test_well"
   ]
  },
  {
   "cell_type": "code",
   "execution_count": 30,
   "metadata": {
    "collapsed": false
   },
   "outputs": [],
   "source": [
    "#Adapted from Brendon Hall and Allesandro Amato del Monte (SEG tutorial)\n",
    "facies_colors = ['#F4D03F', '#F5B041', '#DC7633','#A569BD',\n",
    "       '#000000', '#000080', '#2E86C1', '#AED6F1', '#196F3D']\n",
    "\n",
    "def compare_PE_plot(logs):\n",
    "    #make sure logs are sorted by depth\n",
    "    logs = logs.sort_values(by='Depth')\n",
    "    cmap_facies = colors.ListedColormap(facies_colors[0:len(facies_colors)], 'indexed')\n",
    "    \n",
    "    ztop=logs.Depth.min(); zbot=logs.Depth.max()\n",
    "    \n",
    "    cluster1 = np.repeat(np.expand_dims(logs['Facies'].values,1), 100, 1)\n",
    "        \n",
    "    f, ax = plt.subplots(nrows=1, ncols=7, figsize=(9,12))\n",
    "    ax[0].plot(logs.GR, logs.Depth, '-g')\n",
    "    ax[1].plot(logs.ILD_log10, logs.Depth, '-')\n",
    "    ax[2].plot(logs.DeltaPHI, logs.Depth, '-', color='0.5')\n",
    "    ax[3].plot(logs.PHIND, logs.Depth, '-', color='r')\n",
    "    ax[4].plot(logs.PE, logs.Depth, '-', color='black')\n",
    "    ax[4].plot(logs.Blind_PE, logs.Depth, '-', color='blue')\n",
    "    im1 = ax[5].imshow(cluster1, interpolation='none', aspect='auto',\n",
    "                    cmap=cmap_facies,vmin=1,vmax=9)\n",
    "    \n",
    "    divider = make_axes_locatable(ax[5])\n",
    "    cax = divider.append_axes(\"right\", size=\"20%\", pad=0.05)\n",
    "    cbar=plt.colorbar(im1, cax=cax)\n",
    "    cbar.set_label((17*' ').join([' SS ', 'CSiS', 'FSiS', \n",
    "                                'SiSh', ' MS ', ' WS ', ' D  ', \n",
    "                                ' PS ', ' BS ']))\n",
    "    cbar.set_ticks(range(0,1)); cbar.set_ticklabels('')\n",
    "    \n",
    "    for i in range(len(ax)-2):\n",
    "        ax[i].set_ylim(ztop,zbot)\n",
    "        ax[i].invert_yaxis()\n",
    "        ax[i].grid()\n",
    "        ax[i].locator_params(axis='x', nbins=3)\n",
    "    \n",
    "    ax[0].set_xlabel(\"GR\")\n",
    "    ax[0].set_xlim([0,200])\n",
    "    ax[1].set_xlabel(\"ILD_log10\")\n",
    "    ax[1].set_xlim([0.2,2])\n",
    "    ax[2].set_xlabel(\"DeltaPHI\")\n",
    "    ax[2].set_xlim([-10,40])\n",
    "    ax[3].set_xlabel(\"PHIND\")\n",
    "    ax[3].set_xlim([0,50])\n",
    "    ax[4].set_xlabel(\"PE/Blind_PE\")\n",
    "    ax[4].set_xlim([0,10])\n",
    "    ax[5].set_xlabel('Facies')\n",
    "    \n",
    "    ax[1].set_yticklabels([]); ax[2].set_yticklabels([]); ax[3].set_yticklabels([])\n",
    "    ax[4].set_yticklabels([]);\n",
    "    ax[5].set_xticklabels([])\n",
    "    f.suptitle('Well: %s'%logs.iloc[0]['Well Name'], fontsize=14,y=0.94)"
   ]
  },
  {
   "cell_type": "code",
   "execution_count": 31,
   "metadata": {
    "collapsed": false
   },
   "outputs": [
    {
     "data": {
      "image/png": "[encoded data removed]",
      "text/plain": [
       "<matplotlib.figure.Figure at 0x1e74ed1cbe0>"
      ]
     },
     "metadata": {},
     "output_type": "display_data"
    }
   ],
   "source": [
    "compare_PE_plot(test_well)"
   ]
  },
  {
   "cell_type": "code",
   "execution_count": 32,
   "metadata": {
    "collapsed": false
   },
   "outputs": [
    {
     "data": {
      "text/html": [
       "<div>\n",
       "<table border=\"1\" class=\"dataframe\">\n",
       "  <thead>\n",
       "    <tr style=\"text-align: right;\">\n",
       "      <th></th>\n",
       "      <th>Facies</th>\n",
       "      <th>Formation</th>\n",
       "      <th>Well Name</th>\n",
       "      <th>Depth</th>\n",
       "      <th>GR</th>\n",
       "      <th>ILD_log10</th>\n",
       "      <th>DeltaPHI</th>\n",
       "      <th>PHIND</th>\n",
       "      <th>PE</th>\n",
       "      <th>NM_M</th>\n",
       "      <th>RELPOS</th>\n",
       "    </tr>\n",
       "  </thead>\n",
       "  <tbody>\n",
       "    <tr>\n",
       "      <th>471</th>\n",
       "      <td>3</td>\n",
       "      <td>A1 SH</td>\n",
       "      <td>ALEXANDER D</td>\n",
       "      <td>2887.5</td>\n",
       "      <td>88.71</td>\n",
       "      <td>0.612</td>\n",
       "      <td>6.7</td>\n",
       "      <td>10.605</td>\n",
       "      <td>NaN</td>\n",
       "      <td>1</td>\n",
       "      <td>1.000</td>\n",
       "    </tr>\n",
       "    <tr>\n",
       "      <th>472</th>\n",
       "      <td>3</td>\n",
       "      <td>A1 SH</td>\n",
       "      <td>ALEXANDER D</td>\n",
       "      <td>2888.0</td>\n",
       "      <td>92.71</td>\n",
       "      <td>0.583</td>\n",
       "      <td>11.0</td>\n",
       "      <td>12.515</td>\n",
       "      <td>NaN</td>\n",
       "      <td>1</td>\n",
       "      <td>0.974</td>\n",
       "    </tr>\n",
       "    <tr>\n",
       "      <th>473</th>\n",
       "      <td>3</td>\n",
       "      <td>A1 SH</td>\n",
       "      <td>ALEXANDER D</td>\n",
       "      <td>2888.5</td>\n",
       "      <td>94.54</td>\n",
       "      <td>0.579</td>\n",
       "      <td>12.0</td>\n",
       "      <td>13.410</td>\n",
       "      <td>NaN</td>\n",
       "      <td>1</td>\n",
       "      <td>0.949</td>\n",
       "    </tr>\n",
       "    <tr>\n",
       "      <th>474</th>\n",
       "      <td>3</td>\n",
       "      <td>A1 SH</td>\n",
       "      <td>ALEXANDER D</td>\n",
       "      <td>2889.0</td>\n",
       "      <td>95.31</td>\n",
       "      <td>0.579</td>\n",
       "      <td>11.5</td>\n",
       "      <td>13.750</td>\n",
       "      <td>NaN</td>\n",
       "      <td>1</td>\n",
       "      <td>0.923</td>\n",
       "    </tr>\n",
       "    <tr>\n",
       "      <th>475</th>\n",
       "      <td>3</td>\n",
       "      <td>A1 SH</td>\n",
       "      <td>ALEXANDER D</td>\n",
       "      <td>2889.5</td>\n",
       "      <td>93.79</td>\n",
       "      <td>0.572</td>\n",
       "      <td>10.3</td>\n",
       "      <td>13.405</td>\n",
       "      <td>NaN</td>\n",
       "      <td>1</td>\n",
       "      <td>0.897</td>\n",
       "    </tr>\n",
       "    <tr>\n",
       "      <th>...</th>\n",
       "      <td>...</td>\n",
       "      <td>...</td>\n",
       "      <td>...</td>\n",
       "      <td>...</td>\n",
       "      <td>...</td>\n",
       "      <td>...</td>\n",
       "      <td>...</td>\n",
       "      <td>...</td>\n",
       "      <td>...</td>\n",
       "      <td>...</td>\n",
       "      <td>...</td>\n",
       "    </tr>\n",
       "    <tr>\n",
       "      <th>932</th>\n",
       "      <td>8</td>\n",
       "      <td>C LM</td>\n",
       "      <td>ALEXANDER D</td>\n",
       "      <td>3119.0</td>\n",
       "      <td>68.34</td>\n",
       "      <td>0.910</td>\n",
       "      <td>-1.8</td>\n",
       "      <td>8.065</td>\n",
       "      <td>NaN</td>\n",
       "      <td>2</td>\n",
       "      <td>0.043</td>\n",
       "    </tr>\n",
       "    <tr>\n",
       "      <th>933</th>\n",
       "      <td>8</td>\n",
       "      <td>C LM</td>\n",
       "      <td>ALEXANDER D</td>\n",
       "      <td>3119.5</td>\n",
       "      <td>67.87</td>\n",
       "      <td>0.926</td>\n",
       "      <td>1.8</td>\n",
       "      <td>8.175</td>\n",
       "      <td>NaN</td>\n",
       "      <td>2</td>\n",
       "      <td>0.034</td>\n",
       "    </tr>\n",
       "    <tr>\n",
       "      <th>934</th>\n",
       "      <td>8</td>\n",
       "      <td>C LM</td>\n",
       "      <td>ALEXANDER D</td>\n",
       "      <td>3120.0</td>\n",
       "      <td>66.00</td>\n",
       "      <td>0.928</td>\n",
       "      <td>6.3</td>\n",
       "      <td>8.540</td>\n",
       "      <td>NaN</td>\n",
       "      <td>2</td>\n",
       "      <td>0.026</td>\n",
       "    </tr>\n",
       "    <tr>\n",
       "      <th>935</th>\n",
       "      <td>8</td>\n",
       "      <td>C LM</td>\n",
       "      <td>ALEXANDER D</td>\n",
       "      <td>3120.5</td>\n",
       "      <td>67.39</td>\n",
       "      <td>0.898</td>\n",
       "      <td>9.6</td>\n",
       "      <td>9.755</td>\n",
       "      <td>NaN</td>\n",
       "      <td>2</td>\n",
       "      <td>0.017</td>\n",
       "    </tr>\n",
       "    <tr>\n",
       "      <th>936</th>\n",
       "      <td>8</td>\n",
       "      <td>C LM</td>\n",
       "      <td>ALEXANDER D</td>\n",
       "      <td>3121.0</td>\n",
       "      <td>76.58</td>\n",
       "      <td>0.850</td>\n",
       "      <td>12.1</td>\n",
       "      <td>10.815</td>\n",
       "      <td>NaN</td>\n",
       "      <td>2</td>\n",
       "      <td>0.009</td>\n",
       "    </tr>\n",
       "  </tbody>\n",
       "</table>\n",
       "<p>466 rows × 11 columns</p>\n",
       "</div>"
      ],
      "text/plain": [
       "     Facies Formation    Well Name   Depth     GR  ILD_log10  DeltaPHI  \\\n",
       "471       3     A1 SH  ALEXANDER D  2887.5  88.71      0.612       6.7   \n",
       "472       3     A1 SH  ALEXANDER D  2888.0  92.71      0.583      11.0   \n",
       "473       3     A1 SH  ALEXANDER D  2888.5  94.54      0.579      12.0   \n",
       "474       3     A1 SH  ALEXANDER D  2889.0  95.31      0.579      11.5   \n",
       "475       3     A1 SH  ALEXANDER D  2889.5  93.79      0.572      10.3   \n",
       "..      ...       ...          ...     ...    ...        ...       ...   \n",
       "932       8      C LM  ALEXANDER D  3119.0  68.34      0.910      -1.8   \n",
       "933       8      C LM  ALEXANDER D  3119.5  67.87      0.926       1.8   \n",
       "934       8      C LM  ALEXANDER D  3120.0  66.00      0.928       6.3   \n",
       "935       8      C LM  ALEXANDER D  3120.5  67.39      0.898       9.6   \n",
       "936       8      C LM  ALEXANDER D  3121.0  76.58      0.850      12.1   \n",
       "\n",
       "      PHIND  PE  NM_M  RELPOS  \n",
       "471  10.605 NaN     1   1.000  \n",
       "472  12.515 NaN     1   0.974  \n",
       "473  13.410 NaN     1   0.949  \n",
       "474  13.750 NaN     1   0.923  \n",
       "475  13.405 NaN     1   0.897  \n",
       "..      ...  ..   ...     ...  \n",
       "932   8.065 NaN     2   0.043  \n",
       "933   8.175 NaN     2   0.034  \n",
       "934   8.540 NaN     2   0.026  \n",
       "935   9.755 NaN     2   0.017  \n",
       "936  10.815 NaN     2   0.009  \n",
       "\n",
       "[466 rows x 11 columns]"
      ]
     },
     "execution_count": 32,
     "metadata": {},
     "output_type": "execute_result"
    }
   ],
   "source": [
    "ALEX_D_No_PE"
   ]
  },
  {
   "cell_type": "code",
   "execution_count": 33,
   "metadata": {
    "collapsed": false
   },
   "outputs": [],
   "source": [
    "#So now I need to put the PE back into the complete dataset...having problems\n",
    "vectors_AD = ALEX_D_No_PE.drop(['Depth', 'PE', 'Well Name', 'Formation'], axis=1)"
   ]
  },
  {
   "cell_type": "code",
   "execution_count": 34,
   "metadata": {
    "collapsed": true
   },
   "outputs": [],
   "source": [
    "vectors_AD_2 = scaler.transform(vectors_AD)"
   ]
  },
  {
   "cell_type": "code",
   "execution_count": 35,
   "metadata": {
    "collapsed": true
   },
   "outputs": [],
   "source": [
    "PE = clf_rbf.predict(vectors_AD_2)"
   ]
  },
  {
   "cell_type": "code",
   "execution_count": 36,
   "metadata": {
    "collapsed": false
   },
   "outputs": [],
   "source": [
    "ALEX_D_No_PE['PE'] = PE"
   ]
  },
  {
   "cell_type": "code",
   "execution_count": 37,
   "metadata": {
    "collapsed": false
   },
   "outputs": [
    {
     "data": {
      "text/html": [
       "<div>\n",
       "<table border=\"1\" class=\"dataframe\">\n",
       "  <thead>\n",
       "    <tr style=\"text-align: right;\">\n",
       "      <th></th>\n",
       "      <th>Facies</th>\n",
       "      <th>Formation</th>\n",
       "      <th>Well Name</th>\n",
       "      <th>Depth</th>\n",
       "      <th>GR</th>\n",
       "      <th>ILD_log10</th>\n",
       "      <th>DeltaPHI</th>\n",
       "      <th>PHIND</th>\n",
       "      <th>PE</th>\n",
       "      <th>NM_M</th>\n",
       "      <th>RELPOS</th>\n",
       "    </tr>\n",
       "  </thead>\n",
       "  <tbody>\n",
       "    <tr>\n",
       "      <th>471</th>\n",
       "      <td>3</td>\n",
       "      <td>A1 SH</td>\n",
       "      <td>ALEXANDER D</td>\n",
       "      <td>2887.5</td>\n",
       "      <td>88.71</td>\n",
       "      <td>0.612</td>\n",
       "      <td>6.7</td>\n",
       "      <td>10.605</td>\n",
       "      <td>3.232059</td>\n",
       "      <td>1</td>\n",
       "      <td>1.000</td>\n",
       "    </tr>\n",
       "    <tr>\n",
       "      <th>472</th>\n",
       "      <td>3</td>\n",
       "      <td>A1 SH</td>\n",
       "      <td>ALEXANDER D</td>\n",
       "      <td>2888.0</td>\n",
       "      <td>92.71</td>\n",
       "      <td>0.583</td>\n",
       "      <td>11.0</td>\n",
       "      <td>12.515</td>\n",
       "      <td>3.686874</td>\n",
       "      <td>1</td>\n",
       "      <td>0.974</td>\n",
       "    </tr>\n",
       "    <tr>\n",
       "      <th>473</th>\n",
       "      <td>3</td>\n",
       "      <td>A1 SH</td>\n",
       "      <td>ALEXANDER D</td>\n",
       "      <td>2888.5</td>\n",
       "      <td>94.54</td>\n",
       "      <td>0.579</td>\n",
       "      <td>12.0</td>\n",
       "      <td>13.410</td>\n",
       "      <td>3.513839</td>\n",
       "      <td>1</td>\n",
       "      <td>0.949</td>\n",
       "    </tr>\n",
       "    <tr>\n",
       "      <th>474</th>\n",
       "      <td>3</td>\n",
       "      <td>A1 SH</td>\n",
       "      <td>ALEXANDER D</td>\n",
       "      <td>2889.0</td>\n",
       "      <td>95.31</td>\n",
       "      <td>0.579</td>\n",
       "      <td>11.5</td>\n",
       "      <td>13.750</td>\n",
       "      <td>3.329519</td>\n",
       "      <td>1</td>\n",
       "      <td>0.923</td>\n",
       "    </tr>\n",
       "    <tr>\n",
       "      <th>475</th>\n",
       "      <td>3</td>\n",
       "      <td>A1 SH</td>\n",
       "      <td>ALEXANDER D</td>\n",
       "      <td>2889.5</td>\n",
       "      <td>93.79</td>\n",
       "      <td>0.572</td>\n",
       "      <td>10.3</td>\n",
       "      <td>13.405</td>\n",
       "      <td>3.188560</td>\n",
       "      <td>1</td>\n",
       "      <td>0.897</td>\n",
       "    </tr>\n",
       "    <tr>\n",
       "      <th>...</th>\n",
       "      <td>...</td>\n",
       "      <td>...</td>\n",
       "      <td>...</td>\n",
       "      <td>...</td>\n",
       "      <td>...</td>\n",
       "      <td>...</td>\n",
       "      <td>...</td>\n",
       "      <td>...</td>\n",
       "      <td>...</td>\n",
       "      <td>...</td>\n",
       "      <td>...</td>\n",
       "    </tr>\n",
       "    <tr>\n",
       "      <th>932</th>\n",
       "      <td>8</td>\n",
       "      <td>C LM</td>\n",
       "      <td>ALEXANDER D</td>\n",
       "      <td>3119.0</td>\n",
       "      <td>68.34</td>\n",
       "      <td>0.910</td>\n",
       "      <td>-1.8</td>\n",
       "      <td>8.065</td>\n",
       "      <td>3.426749</td>\n",
       "      <td>2</td>\n",
       "      <td>0.043</td>\n",
       "    </tr>\n",
       "    <tr>\n",
       "      <th>933</th>\n",
       "      <td>8</td>\n",
       "      <td>C LM</td>\n",
       "      <td>ALEXANDER D</td>\n",
       "      <td>3119.5</td>\n",
       "      <td>67.87</td>\n",
       "      <td>0.926</td>\n",
       "      <td>1.8</td>\n",
       "      <td>8.175</td>\n",
       "      <td>3.224560</td>\n",
       "      <td>2</td>\n",
       "      <td>0.034</td>\n",
       "    </tr>\n",
       "    <tr>\n",
       "      <th>934</th>\n",
       "      <td>8</td>\n",
       "      <td>C LM</td>\n",
       "      <td>ALEXANDER D</td>\n",
       "      <td>3120.0</td>\n",
       "      <td>66.00</td>\n",
       "      <td>0.928</td>\n",
       "      <td>6.3</td>\n",
       "      <td>8.540</td>\n",
       "      <td>3.155561</td>\n",
       "      <td>2</td>\n",
       "      <td>0.026</td>\n",
       "    </tr>\n",
       "    <tr>\n",
       "      <th>935</th>\n",
       "      <td>8</td>\n",
       "      <td>C LM</td>\n",
       "      <td>ALEXANDER D</td>\n",
       "      <td>3120.5</td>\n",
       "      <td>67.39</td>\n",
       "      <td>0.898</td>\n",
       "      <td>9.6</td>\n",
       "      <td>9.755</td>\n",
       "      <td>3.554215</td>\n",
       "      <td>2</td>\n",
       "      <td>0.017</td>\n",
       "    </tr>\n",
       "    <tr>\n",
       "      <th>936</th>\n",
       "      <td>8</td>\n",
       "      <td>C LM</td>\n",
       "      <td>ALEXANDER D</td>\n",
       "      <td>3121.0</td>\n",
       "      <td>76.58</td>\n",
       "      <td>0.850</td>\n",
       "      <td>12.1</td>\n",
       "      <td>10.815</td>\n",
       "      <td>3.608800</td>\n",
       "      <td>2</td>\n",
       "      <td>0.009</td>\n",
       "    </tr>\n",
       "  </tbody>\n",
       "</table>\n",
       "<p>466 rows × 11 columns</p>\n",
       "</div>"
      ],
      "text/plain": [
       "     Facies Formation    Well Name   Depth     GR  ILD_log10  DeltaPHI  \\\n",
       "471       3     A1 SH  ALEXANDER D  2887.5  88.71      0.612       6.7   \n",
       "472       3     A1 SH  ALEXANDER D  2888.0  92.71      0.583      11.0   \n",
       "473       3     A1 SH  ALEXANDER D  2888.5  94.54      0.579      12.0   \n",
       "474       3     A1 SH  ALEXANDER D  2889.0  95.31      0.579      11.5   \n",
       "475       3     A1 SH  ALEXANDER D  2889.5  93.79      0.572      10.3   \n",
       "..      ...       ...          ...     ...    ...        ...       ...   \n",
       "932       8      C LM  ALEXANDER D  3119.0  68.34      0.910      -1.8   \n",
       "933       8      C LM  ALEXANDER D  3119.5  67.87      0.926       1.8   \n",
       "934       8      C LM  ALEXANDER D  3120.0  66.00      0.928       6.3   \n",
       "935       8      C LM  ALEXANDER D  3120.5  67.39      0.898       9.6   \n",
       "936       8      C LM  ALEXANDER D  3121.0  76.58      0.850      12.1   \n",
       "\n",
       "      PHIND        PE  NM_M  RELPOS  \n",
       "471  10.605  3.232059     1   1.000  \n",
       "472  12.515  3.686874     1   0.974  \n",
       "473  13.410  3.513839     1   0.949  \n",
       "474  13.750  3.329519     1   0.923  \n",
       "475  13.405  3.188560     1   0.897  \n",
       "..      ...       ...   ...     ...  \n",
       "932   8.065  3.426749     2   0.043  \n",
       "933   8.175  3.224560     2   0.034  \n",
       "934   8.540  3.155561     2   0.026  \n",
       "935   9.755  3.554215     2   0.017  \n",
       "936  10.815  3.608800     2   0.009  \n",
       "\n",
       "[466 rows x 11 columns]"
      ]
     },
     "execution_count": 37,
     "metadata": {},
     "output_type": "execute_result"
    }
   ],
   "source": [
    "ALEX_D_No_PE"
   ]
  },
  {
   "cell_type": "code",
   "execution_count": 38,
   "metadata": {
    "collapsed": false
   },
   "outputs": [],
   "source": [
    "vectors_KIM = KIMZEY_No_PE.drop(['Depth', 'PE', 'Well Name', 'Formation'], axis=1)"
   ]
  },
  {
   "cell_type": "code",
   "execution_count": 39,
   "metadata": {
    "collapsed": true
   },
   "outputs": [],
   "source": [
    "vectors_KIM_2 = scaler.transform(vectors_KIM)"
   ]
  },
  {
   "cell_type": "code",
   "execution_count": 40,
   "metadata": {
    "collapsed": true
   },
   "outputs": [],
   "source": [
    "PE = clf_rbf.predict(vectors_KIM_2)"
   ]
  },
  {
   "cell_type": "code",
   "execution_count": 41,
   "metadata": {
    "collapsed": false
   },
   "outputs": [],
   "source": [
    "KIMZEY_No_PE['PE'] = PE"
   ]
  },
  {
   "cell_type": "code",
   "execution_count": 42,
   "metadata": {
    "collapsed": false
   },
   "outputs": [
    {
     "data": {
      "text/html": [
       "<div>\n",
       "<table border=\"1\" class=\"dataframe\">\n",
       "  <thead>\n",
       "    <tr style=\"text-align: right;\">\n",
       "      <th></th>\n",
       "      <th>Facies</th>\n",
       "      <th>Formation</th>\n",
       "      <th>Well Name</th>\n",
       "      <th>Depth</th>\n",
       "      <th>GR</th>\n",
       "      <th>ILD_log10</th>\n",
       "      <th>DeltaPHI</th>\n",
       "      <th>PHIND</th>\n",
       "      <th>PE</th>\n",
       "      <th>NM_M</th>\n",
       "      <th>RELPOS</th>\n",
       "    </tr>\n",
       "  </thead>\n",
       "  <tbody>\n",
       "    <tr>\n",
       "      <th>1847</th>\n",
       "      <td>1</td>\n",
       "      <td>A1 SH</td>\n",
       "      <td>KIMZEY A</td>\n",
       "      <td>2918.5</td>\n",
       "      <td>73.816</td>\n",
       "      <td>0.769</td>\n",
       "      <td>5.226</td>\n",
       "      <td>11.3480</td>\n",
       "      <td>3.211498</td>\n",
       "      <td>1</td>\n",
       "      <td>1.000</td>\n",
       "    </tr>\n",
       "    <tr>\n",
       "      <th>1848</th>\n",
       "      <td>1</td>\n",
       "      <td>A1 SH</td>\n",
       "      <td>KIMZEY A</td>\n",
       "      <td>2919.0</td>\n",
       "      <td>75.118</td>\n",
       "      <td>0.627</td>\n",
       "      <td>8.198</td>\n",
       "      <td>13.1640</td>\n",
       "      <td>3.176697</td>\n",
       "      <td>1</td>\n",
       "      <td>0.978</td>\n",
       "    </tr>\n",
       "    <tr>\n",
       "      <th>1849</th>\n",
       "      <td>1</td>\n",
       "      <td>A1 SH</td>\n",
       "      <td>KIMZEY A</td>\n",
       "      <td>2919.5</td>\n",
       "      <td>72.434</td>\n",
       "      <td>0.535</td>\n",
       "      <td>10.867</td>\n",
       "      <td>15.0755</td>\n",
       "      <td>3.136395</td>\n",
       "      <td>1</td>\n",
       "      <td>0.956</td>\n",
       "    </tr>\n",
       "    <tr>\n",
       "      <th>1850</th>\n",
       "      <td>2</td>\n",
       "      <td>A1 SH</td>\n",
       "      <td>KIMZEY A</td>\n",
       "      <td>2920.0</td>\n",
       "      <td>66.161</td>\n",
       "      <td>0.568</td>\n",
       "      <td>4.566</td>\n",
       "      <td>16.9050</td>\n",
       "      <td>2.672616</td>\n",
       "      <td>1</td>\n",
       "      <td>0.933</td>\n",
       "    </tr>\n",
       "    <tr>\n",
       "      <th>1851</th>\n",
       "      <td>2</td>\n",
       "      <td>A1 SH</td>\n",
       "      <td>KIMZEY A</td>\n",
       "      <td>2920.5</td>\n",
       "      <td>63.104</td>\n",
       "      <td>0.650</td>\n",
       "      <td>2.083</td>\n",
       "      <td>15.8835</td>\n",
       "      <td>2.775486</td>\n",
       "      <td>1</td>\n",
       "      <td>0.911</td>\n",
       "    </tr>\n",
       "    <tr>\n",
       "      <th>...</th>\n",
       "      <td>...</td>\n",
       "      <td>...</td>\n",
       "      <td>...</td>\n",
       "      <td>...</td>\n",
       "      <td>...</td>\n",
       "      <td>...</td>\n",
       "      <td>...</td>\n",
       "      <td>...</td>\n",
       "      <td>...</td>\n",
       "      <td>...</td>\n",
       "      <td>...</td>\n",
       "    </tr>\n",
       "    <tr>\n",
       "      <th>2281</th>\n",
       "      <td>4</td>\n",
       "      <td>C LM</td>\n",
       "      <td>KIMZEY A</td>\n",
       "      <td>3136.0</td>\n",
       "      <td>86.023</td>\n",
       "      <td>0.688</td>\n",
       "      <td>10.949</td>\n",
       "      <td>11.7335</td>\n",
       "      <td>4.113992</td>\n",
       "      <td>2</td>\n",
       "      <td>0.405</td>\n",
       "    </tr>\n",
       "    <tr>\n",
       "      <th>2282</th>\n",
       "      <td>6</td>\n",
       "      <td>C LM</td>\n",
       "      <td>KIMZEY A</td>\n",
       "      <td>3136.5</td>\n",
       "      <td>101.037</td>\n",
       "      <td>0.732</td>\n",
       "      <td>10.179</td>\n",
       "      <td>12.0085</td>\n",
       "      <td>4.164020</td>\n",
       "      <td>2</td>\n",
       "      <td>0.393</td>\n",
       "    </tr>\n",
       "    <tr>\n",
       "      <th>2283</th>\n",
       "      <td>6</td>\n",
       "      <td>C LM</td>\n",
       "      <td>KIMZEY A</td>\n",
       "      <td>3137.0</td>\n",
       "      <td>153.374</td>\n",
       "      <td>0.748</td>\n",
       "      <td>8.198</td>\n",
       "      <td>13.4390</td>\n",
       "      <td>3.917026</td>\n",
       "      <td>2</td>\n",
       "      <td>0.381</td>\n",
       "    </tr>\n",
       "    <tr>\n",
       "      <th>2284</th>\n",
       "      <td>6</td>\n",
       "      <td>C LM</td>\n",
       "      <td>KIMZEY A</td>\n",
       "      <td>3137.5</td>\n",
       "      <td>144.117</td>\n",
       "      <td>0.672</td>\n",
       "      <td>9.188</td>\n",
       "      <td>13.4390</td>\n",
       "      <td>3.855115</td>\n",
       "      <td>2</td>\n",
       "      <td>0.369</td>\n",
       "    </tr>\n",
       "    <tr>\n",
       "      <th>2285</th>\n",
       "      <td>4</td>\n",
       "      <td>C LM</td>\n",
       "      <td>KIMZEY A</td>\n",
       "      <td>3138.0</td>\n",
       "      <td>245.360</td>\n",
       "      <td>0.721</td>\n",
       "      <td>9.642</td>\n",
       "      <td>13.9270</td>\n",
       "      <td>3.970985</td>\n",
       "      <td>2</td>\n",
       "      <td>0.357</td>\n",
       "    </tr>\n",
       "  </tbody>\n",
       "</table>\n",
       "<p>439 rows × 11 columns</p>\n",
       "</div>"
      ],
      "text/plain": [
       "      Facies Formation Well Name   Depth       GR  ILD_log10  DeltaPHI  \\\n",
       "1847       1     A1 SH  KIMZEY A  2918.5   73.816      0.769     5.226   \n",
       "1848       1     A1 SH  KIMZEY A  2919.0   75.118      0.627     8.198   \n",
       "1849       1     A1 SH  KIMZEY A  2919.5   72.434      0.535    10.867   \n",
       "1850       2     A1 SH  KIMZEY A  2920.0   66.161      0.568     4.566   \n",
       "1851       2     A1 SH  KIMZEY A  2920.5   63.104      0.650     2.083   \n",
       "...      ...       ...       ...     ...      ...        ...       ...   \n",
       "2281       4      C LM  KIMZEY A  3136.0   86.023      0.688    10.949   \n",
       "2282       6      C LM  KIMZEY A  3136.5  101.037      0.732    10.179   \n",
       "2283       6      C LM  KIMZEY A  3137.0  153.374      0.748     8.198   \n",
       "2284       6      C LM  KIMZEY A  3137.5  144.117      0.672     9.188   \n",
       "2285       4      C LM  KIMZEY A  3138.0  245.360      0.721     9.642   \n",
       "\n",
       "        PHIND        PE  NM_M  RELPOS  \n",
       "1847  11.3480  3.211498     1   1.000  \n",
       "1848  13.1640  3.176697     1   0.978  \n",
       "1849  15.0755  3.136395     1   0.956  \n",
       "1850  16.9050  2.672616     1   0.933  \n",
       "1851  15.8835  2.775486     1   0.911  \n",
       "...       ...       ...   ...     ...  \n",
       "2281  11.7335  4.113992     2   0.405  \n",
       "2282  12.0085  4.164020     2   0.393  \n",
       "2283  13.4390  3.917026     2   0.381  \n",
       "2284  13.4390  3.855115     2   0.369  \n",
       "2285  13.9270  3.970985     2   0.357  \n",
       "\n",
       "[439 rows x 11 columns]"
      ]
     },
     "execution_count": 42,
     "metadata": {},
     "output_type": "execute_result"
    }
   ],
   "source": [
    "KIMZEY_No_PE"
   ]
  },
  {
   "cell_type": "code",
   "execution_count": 43,
   "metadata": {
    "collapsed": false
   },
   "outputs": [],
   "source": [
    "#From here, I want to now include the generated PE into the original \"facies_vectors.csv\" but having problems."
   ]
  },
  {
   "cell_type": "code",
   "execution_count": null,
   "metadata": {
    "collapsed": true
   },
   "outputs": [],
   "source": []
  }
 ],
 "metadata": {
  "anaconda-cloud": {},
  "kernelspec": {
   "display_name": "Python [conda root]",
   "language": "python",
   "name": "conda-root-py"
  },
  "language_info": {
   "codemirror_mode": {
    "name": "ipython",
    "version": 3
   },
   "file_extension": ".py",
   "mimetype": "text/x-python",
   "name": "python",
   "nbconvert_exporter": "python",
   "pygments_lexer": "ipython3",
   "version": "3.5.2"
  }
 },
 "nbformat": 4,
 "nbformat_minor": 1
}
